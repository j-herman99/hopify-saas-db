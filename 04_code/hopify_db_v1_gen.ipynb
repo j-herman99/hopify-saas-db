{
 "cells": [
  {
   "cell_type": "code",
   "execution_count": null,
   "id": "59fb38ca",
   "metadata": {},
   "outputs": [],
   "source": [
    "\n",
    "# Standard library\n",
    "import os\n",
    "import sqlite3\n",
    "import random\n",
    "import csv\n",
    "import re\n",
    "from datetime import datetime, timedelta\n",
    "from collections import defaultdict"
   ]
  },
  {
   "cell_type": "code",
   "execution_count": null,
   "id": "ae541a48",
   "metadata": {},
   "outputs": [],
   "source": [
    "\n",
    "# Third-party libraries\n",
    "from faker import Faker\n",
    "from dateutil.relativedelta import relativedelta"
   ]
  },
  {
   "cell_type": "code",
   "execution_count": null,
   "id": "f5a91449",
   "metadata": {},
   "outputs": [],
   "source": [
    "\n",
    "random.seed(42)\n",
    "fake = Faker()\n",
    "fake.seed_instance(42)"
   ]
  },
  {
   "cell_type": "code",
   "execution_count": null,
   "id": "9bf34141",
   "metadata": {},
   "outputs": [],
   "source": []
  },
  {
   "cell_type": "code",
   "execution_count": null,
   "id": "8baf5ba6",
   "metadata": {},
   "outputs": [],
   "source": [
    "\n",
    "# ------------------------------\n",
    "# Constants and Lookups\n",
    "# ------------------------------\n",
    "NUM_CUSTOMERS = 50000\n",
    "NUM_PRODUCTS_STATIC = 30\n",
    "NUM_PRODUCTS_DYNAMIC = 50\n",
    "NUM_PRODUCTS_TOTAL = NUM_PRODUCTS_STATIC + NUM_PRODUCTS_DYNAMIC"
   ]
  },
  {
   "cell_type": "code",
   "execution_count": null,
   "id": "fbd526af",
   "metadata": {},
   "outputs": [],
   "source": [
    "\n",
    "PLAN_TYPES = {\n",
    "    \"Starter\": 29,\n",
    "    \"Basic\": 79,\n",
    "    \"Hopify Standard\": 299,\n",
    "    \"Advanced\": 399,\n",
    "    \"Plus\": 2000\n",
    "}\n",
    "CUSTOMER_SEGMENTS = [\"SMB\", \"Mid-Market\", \"Enterprise\"]\n",
    "TICKET_CATEGORIES = [\"Billing\", \"Technical\", \"Onboarding\", \"Account Access\", \"General Inquiry\"]\n",
    "PAYMENT_METHODS = [\"Card\", \"ACH\", \"PayPal\", \"Hop Pay\"]\n",
    "CHURN_REASONS = [\"Too expensive\", \"Switched provider\", \"Lack of features\", \"Poor support\", \"Other\"]"
   ]
  },
  {
   "cell_type": "code",
   "execution_count": null,
   "id": "f865c542",
   "metadata": {},
   "outputs": [],
   "source": [
    "\n",
    "OFFICE_LOCATIONS = [\n",
    "    (\"Hopify NYC HQ\", \"150 Elgin St\", \"New York City\", \"NY\", \"10001\", \"United States\"),\n",
    "    (\"Hopify Canada Hub\", \"123 King St\", \"Toronto\", \"ON\", \"M5H 1J9\", \"Canada\"),\n",
    "    (\"Hopify Brazil Hub\", \"50 Paulista Ave\", \"Sao Paulo\", \"SP\", \"01310-100\", \"Brazil\"),\n",
    "    (\"Hopify Germany Hub\", \"Unter den Linden 1\", \"Berlin\", \"BE\", \"10117\", \"Germany\"),\n",
    "    (\"Hopify Singapore Hub\", \"1 Raffles Place\", \"Singapore\", \"Singapore\", \"048616\", \"Singapore\")\n",
    "]"
   ]
  },
  {
   "cell_type": "code",
   "execution_count": null,
   "id": "53ad9102",
   "metadata": {},
   "outputs": [],
   "source": [
    "\n",
    "print(\"[INFO] Database structure and constants initialized.\")"
   ]
  },
  {
   "cell_type": "code",
   "execution_count": null,
   "id": "fe811dde",
   "metadata": {},
   "outputs": [],
   "source": [
    "\n",
    "# ------------------------------\n",
    "# B2B Name & Domain Helpers\n",
    "# ------------------------------\n",
    "def generate_customer_name(segment):\n",
    "    if segment == \"SMB\":\n",
    "        return fake.name()\n",
    "    elif segment == \"Mid-Market\":\n",
    "        return random.choice([\n",
    "            f\"{fake.first_name()}'s {random.choice(['Studio', 'Shop', 'Solutions'])}\",\n",
    "            fake.company()\n",
    "        ])\n",
    "    elif segment == \"Enterprise\":\n",
    "        return f\"{fake.company()} {random.choice(['Inc.', 'LLC', 'Group', 'Solutions', 'Systems'])}\""
   ]
  },
  {
   "cell_type": "code",
   "execution_count": null,
   "id": "ee334d7d",
   "metadata": {},
   "outputs": [],
   "source": [
    "\n",
    "def slugify(text):\n",
    "    text = text.lower()\n",
    "    text = re.sub(r\"[^\\w\\s-]\", \"\", text)\n",
    "    text = re.sub(r\"[\\s_-]+\", \"-\", text)\n",
    "    return text.strip(\"-\")"
   ]
  },
  {
   "cell_type": "code",
   "execution_count": null,
   "id": "def1b692",
   "metadata": {},
   "outputs": [],
   "source": [
    "\n",
    "def generate_store_metadata(name):\n",
    "    slug = slugify(name)\n",
    "    domain = f\"{slug}.hopify.com\"\n",
    "    return slug, domain"
   ]
  },
  {
   "cell_type": "code",
   "execution_count": null,
   "id": "46427a98",
   "metadata": {},
   "outputs": [],
   "source": [
    "\n",
    "# ------------------------------\n",
    "# Dynamic Monthly Acquisition Plan (with dips, spikes, and marketing campaigns)\n",
    "# ------------------------------"
   ]
  },
  {
   "cell_type": "code",
   "execution_count": null,
   "id": "e4041725",
   "metadata": {},
   "outputs": [],
   "source": [
    "\n",
    "acquisition_plan = defaultdict(int)\n",
    "start_month = datetime.now() - relativedelta(months=36)  # Extend to 3 years for v15\n",
    "current_month = datetime.now() - relativedelta(months=1)\n",
    "month_cursor = start_month"
   ]
  },
  {
   "cell_type": "code",
   "execution_count": null,
   "id": "17481f5c",
   "metadata": {},
   "outputs": [],
   "source": [
    "\n",
    "while month_cursor <= current_month:\n",
    "    year_month = month_cursor.strftime('%Y-%m')\n",
    "    if month_cursor.month in [6, 7, 8]:\n",
    "        target_customers = random.randint(1200, 1800)\n",
    "    elif month_cursor.month in [11, 12, 1]:\n",
    "        target_customers = random.randint(2200, 3000)\n",
    "    elif month_cursor.month == 4 and random.random() < 0.3:\n",
    "        target_customers = random.randint(3000, 4000)\n",
    "    else:\n",
    "        target_customers = random.randint(1800, 2300)\n",
    "    acquisition_plan[year_month] = target_customers\n",
    "    month_cursor += relativedelta(months=1)"
   ]
  },
  {
   "cell_type": "code",
   "execution_count": null,
   "id": "335878ea",
   "metadata": {},
   "outputs": [],
   "source": [
    "\n",
    "print(f\"[INFO] Acquisition plan generated for {len(acquisition_plan)} months.\")"
   ]
  },
  {
   "cell_type": "code",
   "execution_count": null,
   "id": "84b8ff19",
   "metadata": {},
   "outputs": [],
   "source": [
    "\n",
    "# ------------------------------\n",
    "# Connect and Create Schema\n",
    "# ------------------------------"
   ]
  },
  {
   "cell_type": "code",
   "execution_count": null,
   "id": "1c2fdd26",
   "metadata": {},
   "outputs": [],
   "source": [
    "\n",
    "db_path = os.path.join(os.path.dirname(__file__), '..', 'data', 'hopify_saas_v1.db')\n",
    "conn = sqlite3.connect(os.path.abspath(db_path))\n",
    "cursor = conn.cursor()"
   ]
  },
  {
   "cell_type": "code",
   "execution_count": null,
   "id": "34a50bc9",
   "metadata": {},
   "outputs": [],
   "source": []
  },
  {
   "cell_type": "code",
   "execution_count": null,
   "id": "08a3fb31",
   "metadata": {},
   "outputs": [],
   "source": [
    "\n",
    "cursor.executescript(\"\"\"\n",
    "DROP TABLE IF EXISTS customers;\n",
    "DROP TABLE IF EXISTS subscriptions;\n",
    "DROP TABLE IF EXISTS orders;\n",
    "DROP TABLE IF EXISTS order_items;\n",
    "DROP TABLE IF EXISTS payments;\n",
    "DROP TABLE IF EXISTS churn_events;\n",
    "DROP TABLE IF EXISTS support_tickets;\n",
    "DROP TABLE IF EXISTS app_installs;\n",
    "DROP TABLE IF EXISTS discounts;\n",
    "DROP TABLE IF EXISTS order_discounts;\n",
    "DROP TABLE IF EXISTS products;\n",
    "DROP TABLE IF EXISTS locations;\n",
    "DROP TABLE IF EXISTS marketing_campaigns;\n",
    "DROP TABLE IF EXISTS web_traffic;\n",
    "DROP TABLE IF EXISTS benchmarks;"
   ]
  },
  {
   "cell_type": "code",
   "execution_count": null,
   "id": "b62a65d0",
   "metadata": {},
   "outputs": [],
   "source": [
    "\n",
    "CREATE TABLE customers (\n",
    "    customer_id INTEGER PRIMARY KEY,\n",
    "    name TEXT,\n",
    "    email TEXT,\n",
    "    billing_address TEXT,\n",
    "    shipping_address TEXT,\n",
    "    signup_date TEXT,\n",
    "    customer_segment TEXT,\n",
    "    acquisition_source TEXT,\n",
    "    store_slug TEXT,\n",
    "    store_domain TEXT\n",
    ");"
   ]
  },
  {
   "cell_type": "code",
   "execution_count": null,
   "id": "6396e63a",
   "metadata": {},
   "outputs": [],
   "source": [
    "\n",
    "CREATE TABLE subscriptions (\n",
    "    subscription_id INTEGER PRIMARY KEY,\n",
    "    customer_id INTEGER,\n",
    "    plan_type TEXT,\n",
    "    subscription_price REAL,\n",
    "    start_date TEXT,\n",
    "    end_date TEXT,\n",
    "    status TEXT,\n",
    "    change_type TEXT,\n",
    "    FOREIGN KEY (customer_id) REFERENCES customers(customer_id)\n",
    ");"
   ]
  },
  {
   "cell_type": "code",
   "execution_count": null,
   "id": "87f5d234",
   "metadata": {},
   "outputs": [],
   "source": [
    "\n",
    "CREATE TABLE orders (\n",
    "    order_id INTEGER PRIMARY KEY,\n",
    "    customer_id INTEGER,\n",
    "    order_date TEXT,\n",
    "    total_amount REAL,\n",
    "    FOREIGN KEY (customer_id) REFERENCES customers(customer_id)\n",
    ");"
   ]
  },
  {
   "cell_type": "code",
   "execution_count": null,
   "id": "d49e260f",
   "metadata": {},
   "outputs": [],
   "source": [
    "\n",
    "CREATE TABLE order_items (\n",
    "    order_item_id INTEGER PRIMARY KEY,\n",
    "    order_id INTEGER,\n",
    "    product_id INTEGER,\n",
    "    quantity INTEGER,\n",
    "    subtotal REAL,\n",
    "    FOREIGN KEY (order_id) REFERENCES orders(order_id),\n",
    "    FOREIGN KEY (product_id) REFERENCES products(product_id)\n",
    ");"
   ]
  },
  {
   "cell_type": "code",
   "execution_count": null,
   "id": "d2cce8de",
   "metadata": {},
   "outputs": [],
   "source": [
    "\n",
    "CREATE TABLE payments (\n",
    "    payment_id INTEGER PRIMARY KEY,\n",
    "    customer_id INTEGER,\n",
    "    payment_amount REAL,\n",
    "    payment_date TEXT,\n",
    "    payment_method TEXT,\n",
    "    success INTEGER,\n",
    "    FOREIGN KEY (customer_id) REFERENCES customers(customer_id)\n",
    ");"
   ]
  },
  {
   "cell_type": "code",
   "execution_count": null,
   "id": "ef7e0e20",
   "metadata": {},
   "outputs": [],
   "source": [
    "\n",
    "CREATE TABLE marketing_spend (\n",
    "    segment TEXT,\n",
    "    month TEXT,\n",
    "    monthly_budget REAL\n",
    ");                     "
   ]
  },
  {
   "cell_type": "code",
   "execution_count": null,
   "id": "16a075d4",
   "metadata": {},
   "outputs": [],
   "source": [
    "\n",
    "CREATE TABLE churn_events (\n",
    "    churn_id INTEGER PRIMARY KEY,\n",
    "    customer_id INTEGER,\n",
    "    churn_date TEXT,\n",
    "    churn_reason TEXT,\n",
    "    FOREIGN KEY (customer_id) REFERENCES customers(customer_id)\n",
    ");"
   ]
  },
  {
   "cell_type": "code",
   "execution_count": null,
   "id": "cbe00d38",
   "metadata": {},
   "outputs": [],
   "source": [
    "\n",
    "CREATE TABLE support_tickets (\n",
    "    ticket_id INTEGER PRIMARY KEY,\n",
    "    customer_id INTEGER,\n",
    "    ticket_category TEXT,\n",
    "    created_at TEXT,\n",
    "    resolved_at TEXT,\n",
    "    FOREIGN KEY (customer_id) REFERENCES customers(customer_id)\n",
    ");"
   ]
  },
  {
   "cell_type": "code",
   "execution_count": null,
   "id": "a522b0f3",
   "metadata": {},
   "outputs": [],
   "source": [
    "\n",
    "CREATE TABLE app_installs (\n",
    "    install_id INTEGER PRIMARY KEY,\n",
    "    location_id INTEGER,\n",
    "    product_id INTEGER,\n",
    "    install_date TEXT,\n",
    "    FOREIGN KEY (location_id) REFERENCES locations(location_id),\n",
    "    FOREIGN KEY (product_id) REFERENCES products(product_id)\n",
    ");"
   ]
  },
  {
   "cell_type": "code",
   "execution_count": null,
   "id": "eca43269",
   "metadata": {},
   "outputs": [],
   "source": [
    "\n",
    "CREATE TABLE discounts (\n",
    "    discount_id INTEGER PRIMARY KEY,\n",
    "    discount_code TEXT,\n",
    "    discount_percent INTEGER,\n",
    "    start_date TEXT,\n",
    "    end_date TEXT\n",
    ");"
   ]
  },
  {
   "cell_type": "code",
   "execution_count": null,
   "id": "69176ac9",
   "metadata": {},
   "outputs": [],
   "source": [
    "\n",
    "CREATE TABLE order_discounts (\n",
    "    order_id INTEGER,\n",
    "    discount_id INTEGER,\n",
    "    PRIMARY KEY (order_id, discount_id),\n",
    "    FOREIGN KEY (order_id) REFERENCES orders(order_id),\n",
    "    FOREIGN KEY (discount_id) REFERENCES discounts(discount_id)\n",
    ");"
   ]
  },
  {
   "cell_type": "code",
   "execution_count": null,
   "id": "dd0c426c",
   "metadata": {},
   "outputs": [],
   "source": [
    "\n",
    "CREATE TABLE products (\n",
    "    product_id INTEGER PRIMARY KEY,\n",
    "    name TEXT,\n",
    "    category TEXT,\n",
    "    price REAL,\n",
    "    revenue_type TEXT\n",
    ");"
   ]
  },
  {
   "cell_type": "code",
   "execution_count": null,
   "id": "7328bd22",
   "metadata": {},
   "outputs": [],
   "source": [
    "\n",
    "CREATE TABLE locations (\n",
    "    location_id INTEGER PRIMARY KEY,\n",
    "    name TEXT,\n",
    "    address TEXT,\n",
    "    city TEXT,\n",
    "    state TEXT,\n",
    "    postal_code TEXT,\n",
    "    country TEXT\n",
    ");"
   ]
  },
  {
   "cell_type": "code",
   "execution_count": null,
   "id": "6b0daae4",
   "metadata": {},
   "outputs": [],
   "source": [
    "\n",
    "CREATE TABLE web_traffic (\n",
    "    traffic_id INTEGER PRIMARY KEY AUTOINCREMENT,\n",
    "    traffic_date TEXT,\n",
    "    source_channel TEXT,\n",
    "    visitors INTEGER,\n",
    "    leads INTEGER,\n",
    "    mqls INTEGER\n",
    ");"
   ]
  },
  {
   "cell_type": "code",
   "execution_count": null,
   "id": "53a29f65",
   "metadata": {},
   "outputs": [],
   "source": [
    "\n",
    "CREATE TABLE benchmarks (\n",
    "    benchmark_id TEXT PRIMARY KEY,\n",
    "    metric_category TEXT NOT NULL,\n",
    "    segment TEXT NOT NULL,\n",
    "    metric_name TEXT NOT NULL,\n",
    "    target_value REAL,\n",
    "    description TEXT,\n",
    "    target_period TEXT\n",
    ");"
   ]
  },
  {
   "cell_type": "code",
   "execution_count": null,
   "id": "52bb84bb",
   "metadata": {},
   "outputs": [],
   "source": [
    "\n",
    "\"\"\")"
   ]
  },
  {
   "cell_type": "code",
   "execution_count": null,
   "id": "95958680",
   "metadata": {},
   "outputs": [],
   "source": [
    "\n",
    "print(\"[INFO] Database schema created.\")"
   ]
  },
  {
   "cell_type": "code",
   "execution_count": null,
   "id": "dd5409aa",
   "metadata": {},
   "outputs": [],
   "source": []
  },
  {
   "cell_type": "code",
   "execution_count": null,
   "id": "bfbe6b35",
   "metadata": {},
   "outputs": [],
   "source": [
    "\n",
    "# ------------------------------\n",
    "# Products (Static and Dynamic)\n",
    "# ------------------------------\n",
    "product_id = 1\n",
    "categories = ['POS Hardware & Software', 'Payments & Finance', 'Financial Services', 'Apps & Integrations',\n",
    "              'Storefront Tools', 'Marketing & Growth', 'Logistics & Shipping']"
   ]
  },
  {
   "cell_type": "code",
   "execution_count": null,
   "id": "0ffdef45",
   "metadata": {},
   "outputs": [],
   "source": [
    "\n",
    "# Static products\n",
    "for i in range(NUM_PRODUCTS_STATIC):\n",
    "    cursor.execute(\"\"\"\n",
    "        INSERT INTO products VALUES (?, ?, ?, ?, ?)\n",
    "    \"\"\", (\n",
    "        product_id,\n",
    "        f\"Static Product {i+1}\",\n",
    "        random.choice(categories),\n",
    "        round(random.uniform(20, 500), 2),\n",
    "        random.choice([\"One-Time\", \"Subscription\"])\n",
    "    ))\n",
    "    product_id += 1"
   ]
  },
  {
   "cell_type": "code",
   "execution_count": null,
   "id": "ab10325e",
   "metadata": {},
   "outputs": [],
   "source": [
    "\n",
    "# Dynamic products\n",
    "for i in range(NUM_PRODUCTS_DYNAMIC):\n",
    "    cursor.execute(\"\"\"\n",
    "        INSERT INTO products VALUES (?, ?, ?, ?, ?)\n",
    "    \"\"\", (\n",
    "        product_id,\n",
    "        fake.catch_phrase(),\n",
    "        random.choice(categories),\n",
    "        round(random.uniform(20, 500), 2),\n",
    "        random.choice([\"One-Time\", \"Subscription\"])\n",
    "    ))\n",
    "    product_id += 1"
   ]
  },
  {
   "cell_type": "code",
   "execution_count": null,
   "id": "91b53b1e",
   "metadata": {},
   "outputs": [],
   "source": [
    "\n",
    "print(\"[INFO] Inserted products.\")"
   ]
  },
  {
   "cell_type": "code",
   "execution_count": null,
   "id": "cc760dcb",
   "metadata": {},
   "outputs": [],
   "source": [
    "\n",
    "# ------------------------------\n",
    "# Office Locations\n",
    "# ------------------------------\n",
    "for i, (name, address, city, state, postal_code, country) in enumerate(OFFICE_LOCATIONS, 1):\n",
    "    cursor.execute(\"\"\"\n",
    "        INSERT INTO locations VALUES (?, ?, ?, ?, ?, ?, ?)\n",
    "    \"\"\", (i, name, address, city, state, postal_code, country))"
   ]
  },
  {
   "cell_type": "code",
   "execution_count": null,
   "id": "78918c48",
   "metadata": {},
   "outputs": [],
   "source": [
    "\n",
    "print(\"[INFO] Inserted office locations.\")"
   ]
  },
  {
   "cell_type": "code",
   "execution_count": null,
   "id": "1091dac0",
   "metadata": {},
   "outputs": [],
   "source": [
    "\n",
    "# ------------------------------\n",
    "# Customer Generation\n",
    "# ------------------------------\n",
    "customer_id = 1\n",
    "customer_list = []\n",
    "batch_data = []\n",
    "batch_size = 1000"
   ]
  },
  {
   "cell_type": "code",
   "execution_count": null,
   "id": "5dd33c60",
   "metadata": {},
   "outputs": [],
   "source": [
    "\n",
    "for year_month, target in acquisition_plan.items():\n",
    "    month_start = datetime.strptime(year_month + \"-01\", \"%Y-%m-%d\")\n",
    "    month_end = month_start + relativedelta(months=1) - timedelta(days=1)"
   ]
  },
  {
   "cell_type": "code",
   "execution_count": null,
   "id": "95a19cef",
   "metadata": {},
   "outputs": [],
   "source": [
    "\n",
    "    for _ in range(target):\n",
    "        signup_date = fake.date_time_between_dates(month_start, month_end)\n",
    "        segment = random.choices(CUSTOMER_SEGMENTS, weights=[0.6, 0.3, 0.1])[0]"
   ]
  },
  {
   "cell_type": "code",
   "execution_count": null,
   "id": "6671b4ab",
   "metadata": {},
   "outputs": [],
   "source": [
    "\n",
    "        # Segment-aware acquisition channel\n",
    "        if segment == \"SMB\":\n",
    "            source = random.choices(\n",
    "                [\"Organic\", \"Social\", \"Paid Search\", \"Referral\", \"Direct\"],\n",
    "                weights=[0.45, 0.25, 0.20, 0.05, 0.05]\n",
    "            )[0]\n",
    "        elif segment == \"Mid-Market\":\n",
    "            source = random.choices(\n",
    "                [\"Paid Search\", \"Referral\", \"Organic\", \"Social\", \"Direct\"],\n",
    "                weights=[0.30, 0.25, 0.20, 0.15, 0.10]\n",
    "            )[0]\n",
    "        else:  # Enterprise\n",
    "            source = random.choices(\n",
    "                [\"Referral\", \"Paid Search\", \"Direct\", \"Organic\", \"Social\"],\n",
    "                weights=[0.35, 0.30, 0.20, 0.10, 0.05]\n",
    "            )[0]"
   ]
  },
  {
   "cell_type": "code",
   "execution_count": null,
   "id": "aa67efe4",
   "metadata": {},
   "outputs": [],
   "source": [
    "\n",
    "        # Generate B2B-style name and domain\n",
    "        name = generate_customer_name(segment)\n",
    "        slug, domain = generate_store_metadata(name)"
   ]
  },
  {
   "cell_type": "code",
   "execution_count": null,
   "id": "66bb66af",
   "metadata": {},
   "outputs": [],
   "source": [
    "\n",
    "        batch_data.append((\n",
    "            customer_id,\n",
    "            name,\n",
    "            fake.email(),\n",
    "            fake.address(),\n",
    "            fake.address(),\n",
    "            signup_date.strftime(\"%Y-%m-%d %H:%M:%S\"),\n",
    "            segment,\n",
    "            source,\n",
    "            slug,\n",
    "            domain\n",
    "        ))"
   ]
  },
  {
   "cell_type": "code",
   "execution_count": null,
   "id": "4b9e1c45",
   "metadata": {},
   "outputs": [],
   "source": [
    "\n",
    "        customer_list.append((customer_id, segment))\n",
    "        customer_id += 1"
   ]
  },
  {
   "cell_type": "code",
   "execution_count": null,
   "id": "dcb02e75",
   "metadata": {},
   "outputs": [],
   "source": [
    "\n",
    "        if len(batch_data) >= batch_size:\n",
    "            cursor.executemany(\"INSERT INTO customers VALUES (?, ?, ?, ?, ?, ?, ?, ?, ?, ?)\", batch_data)\n",
    "            conn.commit()\n",
    "            batch_data = []"
   ]
  },
  {
   "cell_type": "code",
   "execution_count": null,
   "id": "59d17ceb",
   "metadata": {},
   "outputs": [],
   "source": [
    "\n",
    "if batch_data:\n",
    "    cursor.executemany(\"INSERT INTO customers VALUES (?, ?, ?, ?, ?, ?, ?, ?, ?, ?)\", batch_data)\n",
    "    conn.commit()"
   ]
  },
  {
   "cell_type": "code",
   "execution_count": null,
   "id": "bd4f7f50",
   "metadata": {},
   "outputs": [],
   "source": [
    "\n",
    "print(f\"[INFO] Inserted {len(customer_list)} customers.\")"
   ]
  },
  {
   "cell_type": "code",
   "execution_count": null,
   "id": "f23dbc74",
   "metadata": {},
   "outputs": [],
   "source": [
    "\n",
    "# ------------------------------\n",
    "# Orders, Order Items, Payments\n",
    "# ------------------------------\n",
    "order_id = 1\n",
    "item_id = 1\n",
    "payment_id = 1"
   ]
  },
  {
   "cell_type": "code",
   "execution_count": null,
   "id": "bf299dc7",
   "metadata": {},
   "outputs": [],
   "source": [
    "\n",
    "for customer_id, segment in customer_list:\n",
    "    num_orders = random.randint(1, 3) if segment == 'SMB' else random.randint(2, 4) if segment == 'Mid-Market' else random.randint(3, 6)"
   ]
  },
  {
   "cell_type": "code",
   "execution_count": null,
   "id": "aa7c8b66",
   "metadata": {},
   "outputs": [],
   "source": [
    "\n",
    "    for _ in range(num_orders):\n",
    "        order_date = fake.date_time_between(start_date='-2y', end_date=datetime.today())\n",
    "        total = 0.0"
   ]
  },
  {
   "cell_type": "code",
   "execution_count": null,
   "id": "be47e40a",
   "metadata": {},
   "outputs": [],
   "source": [
    "\n",
    "        cursor.execute(\"INSERT INTO orders VALUES (?, ?, ?, ?)\", (\n",
    "            order_id, customer_id, order_date.strftime(\"%Y-%m-%d %H:%M:%S\"), 0.0\n",
    "        ))"
   ]
  },
  {
   "cell_type": "code",
   "execution_count": null,
   "id": "31cefb65",
   "metadata": {},
   "outputs": [],
   "source": [
    "\n",
    "        # Segment-based category preferences\n",
    "        if segment == 'Enterprise':\n",
    "            categories = ['POS Hardware & Software', 'Payments & Finance', 'Financial Services', 'Apps & Integrations']\n",
    "            weights = [0.4, 0.3, 0.2, 0.1]\n",
    "        elif segment == 'Mid-Market':\n",
    "            categories = ['Apps & Integrations', 'Storefront Tools', 'Marketing & Growth']\n",
    "            weights = [0.4, 0.4, 0.2]\n",
    "        else:\n",
    "            categories = ['Storefront Tools', 'Marketing & Growth', 'Logistics & Shipping']\n",
    "            weights = [0.5, 0.3, 0.2]"
   ]
  },
  {
   "cell_type": "code",
   "execution_count": null,
   "id": "13cd8e1c",
   "metadata": {},
   "outputs": [],
   "source": [
    "\n",
    "        for _ in range(random.randint(1, 5)):\n",
    "            category = random.choices(categories, weights=weights)[0]\n",
    "            cursor.execute(\"SELECT product_id, price FROM products WHERE category = ? ORDER BY RANDOM() LIMIT 1\", (category,))\n",
    "            result = cursor.fetchone()\n",
    "            if result:\n",
    "                pid, price = result\n",
    "                qty = random.randint(1, 3)\n",
    "                subtotal = round(price * qty, 2)\n",
    "                total += subtotal\n",
    "                cursor.execute(\"INSERT INTO order_items VALUES (?, ?, ?, ?, ?)\", (item_id, order_id, pid, qty, subtotal))\n",
    "                item_id += 1"
   ]
  },
  {
   "cell_type": "code",
   "execution_count": null,
   "id": "fa158277",
   "metadata": {},
   "outputs": [],
   "source": [
    "\n",
    "        # Update total\n",
    "        cursor.execute(\"UPDATE orders SET total_amount = ? WHERE order_id = ?\", (round(total, 2), order_id))"
   ]
  },
  {
   "cell_type": "code",
   "execution_count": null,
   "id": "e8bd8d13",
   "metadata": {},
   "outputs": [],
   "source": [
    "\n",
    "        # Payment\n",
    "        pay_date = fake.date_time_between(start_date=order_date, end_date=datetime.today())\n",
    "        method = random.choice(PAYMENT_METHODS)\n",
    "        success = 1 if random.random() > 0.03 else 0\n",
    "        cursor.execute(\"INSERT INTO payments VALUES (?, ?, ?, ?, ?, ?)\", (\n",
    "            payment_id, customer_id, round(total, 2), pay_date.strftime(\"%Y-%m-%d %H:%M:%S\"), method, success\n",
    "        ))"
   ]
  },
  {
   "cell_type": "code",
   "execution_count": null,
   "id": "095f6189",
   "metadata": {},
   "outputs": [],
   "source": [
    "\n",
    "        order_id += 1\n",
    "        payment_id += 1"
   ]
  },
  {
   "cell_type": "code",
   "execution_count": null,
   "id": "4e4e0429",
   "metadata": {},
   "outputs": [],
   "source": [
    "\n",
    "print(\"[INFO] Inserted base orders, items, and payments.\")"
   ]
  },
  {
   "cell_type": "code",
   "execution_count": null,
   "id": "0a5049df",
   "metadata": {},
   "outputs": [],
   "source": [
    "\n",
    "# ------------------------------\n",
    "# Expansion Revenue Events\n",
    "# ------------------------------\n",
    "segment_expansion_params = {\n",
    "    \"SMB\": {\"rate\": 0.03, \"factor_range\": (0.05, 0.1)},\n",
    "    \"Mid-Market\": {\"rate\": 0.1, \"factor_range\": (0.08, 0.15)},\n",
    "    \"Enterprise\": {\"rate\": 0.15, \"factor_range\": (0.1, 0.2)}\n",
    "}"
   ]
  },
  {
   "cell_type": "code",
   "execution_count": null,
   "id": "f84d5b65",
   "metadata": {},
   "outputs": [],
   "source": [
    "\n",
    "exp_order_id = 900000\n",
    "exp_payment_id = 900000\n",
    "expansion_count = 0"
   ]
  },
  {
   "cell_type": "code",
   "execution_count": null,
   "id": "ea54dfd7",
   "metadata": {},
   "outputs": [],
   "source": [
    "\n",
    "for customer_id, segment in customer_list:\n",
    "    params = segment_expansion_params[segment]\n",
    "    if random.random() < params[\"rate\"]:\n",
    "        # Select a random base order date\n",
    "        cursor.execute(\"SELECT order_date FROM orders WHERE customer_id = ? ORDER BY RANDOM() LIMIT 1\", (customer_id,))\n",
    "        result = cursor.fetchone()\n",
    "        if not result:\n",
    "            continue\n",
    "        base_date = datetime.strptime(result[0], \"%Y-%m-%d %H:%M:%S\")"
   ]
  },
  {
   "cell_type": "code",
   "execution_count": null,
   "id": "217a2252",
   "metadata": {},
   "outputs": [],
   "source": [
    "\n",
    "        # Generate 1–4 monthly expansions\n",
    "        months = random.randint(1, 4)\n",
    "        for i in range(months):\n",
    "            expansion_date = base_date + relativedelta(months=i+1)\n",
    "            factor = random.uniform(*params[\"factor_range\"])\n",
    "            revenue = round(random.uniform(100, 1000) * factor, 2)"
   ]
  },
  {
   "cell_type": "code",
   "execution_count": null,
   "id": "f5b76e4d",
   "metadata": {},
   "outputs": [],
   "source": [
    "\n",
    "            cursor.execute(\"INSERT INTO orders VALUES (?, ?, ?, ?)\", (\n",
    "                exp_order_id, customer_id, expansion_date.strftime(\"%Y-%m-%d %H:%M:%S\"), revenue\n",
    "            ))\n",
    "            cursor.execute(\"INSERT INTO payments VALUES (?, ?, ?, ?, ?, ?)\", (\n",
    "                exp_payment_id, customer_id, revenue, expansion_date.strftime(\"%Y-%m-%d %H:%M:%S\"), \"Card\", 1\n",
    "            ))"
   ]
  },
  {
   "cell_type": "code",
   "execution_count": null,
   "id": "70f8ba7f",
   "metadata": {},
   "outputs": [],
   "source": [
    "\n",
    "            exp_order_id += 1\n",
    "            exp_payment_id += 1\n",
    "            expansion_count += 1"
   ]
  },
  {
   "cell_type": "code",
   "execution_count": null,
   "id": "3eb27c5f",
   "metadata": {},
   "outputs": [],
   "source": [
    "\n",
    "print(f\"[INFO] Simulated {expansion_count} expansion revenue events.\")"
   ]
  },
  {
   "cell_type": "code",
   "execution_count": null,
   "id": "ed6ea73a",
   "metadata": {},
   "outputs": [],
   "source": [
    "\n",
    "# ------------------------------\n",
    "# Subscriptions with Signups and Upgrades\n",
    "# ------------------------------"
   ]
  },
  {
   "cell_type": "code",
   "execution_count": null,
   "id": "2dc301b6",
   "metadata": {},
   "outputs": [],
   "source": [
    "\n",
    "cursor.execute(\"SELECT MAX(subscription_id) FROM subscriptions\")\n",
    "existing_sub_id = cursor.fetchone()[0]\n",
    "sub_id = existing_sub_id + 1 if existing_sub_id is not None else 1"
   ]
  },
  {
   "cell_type": "code",
   "execution_count": null,
   "id": "eda580db",
   "metadata": {},
   "outputs": [],
   "source": [
    "\n",
    "subscription_data = []"
   ]
  },
  {
   "cell_type": "code",
   "execution_count": null,
   "id": "5419b6ae",
   "metadata": {},
   "outputs": [],
   "source": [
    "\n",
    "for customer_id, segment in customer_list:\n",
    "    cursor.execute(\"SELECT signup_date FROM customers WHERE customer_id = ?\", (customer_id,))\n",
    "    signup_date_str = cursor.fetchone()[0]\n",
    "    signup_date = datetime.strptime(signup_date_str, \"%Y-%m-%d %H:%M:%S\")"
   ]
  },
  {
   "cell_type": "code",
   "execution_count": null,
   "id": "2e8265f4",
   "metadata": {},
   "outputs": [],
   "source": [
    "    \n",
    "    start_date = fake.date_time_between(start_date=signup_date, end_date=signup_date + relativedelta(months=3))\n",
    "    duration_months = random.randint(6, 24)\n",
    "    end_date = start_date + relativedelta(months=duration_months)"
   ]
  },
  {
   "cell_type": "code",
   "execution_count": null,
   "id": "b04e1b37",
   "metadata": {},
   "outputs": [],
   "source": [
    "\n",
    "    if segment == 'Enterprise':\n",
    "        plan_type = random.choice(['Pro', 'Enterprise'])\n",
    "        price = round(random.uniform(300, 800), 2)\n",
    "    elif segment == 'Mid-Market':\n",
    "        plan_type = random.choice(['Standard', 'Pro'])\n",
    "        price = round(random.uniform(100, 300), 2)\n",
    "    else:\n",
    "        plan_type = random.choice(['Starter', 'Standard'])\n",
    "        price = round(random.uniform(30, 100), 2)"
   ]
  },
  {
   "cell_type": "code",
   "execution_count": null,
   "id": "50d802bf",
   "metadata": {},
   "outputs": [],
   "source": [
    "\n",
    "    # Insert initial signup subscription\n",
    "    subscription_data.append((\n",
    "        sub_id, customer_id, plan_type, price,\n",
    "        start_date.strftime(\"%Y-%m-%d %H:%M:%S\"),\n",
    "        end_date.strftime(\"%Y-%m-%d %H:%M:%S\"),\n",
    "        'active', 'signup'\n",
    "    ))\n",
    "    sub_id += 1"
   ]
  },
  {
   "cell_type": "code",
   "execution_count": null,
   "id": "2a4607ba",
   "metadata": {},
   "outputs": [],
   "source": [
    "\n",
    "    # Simulate upgrades\n",
    "    upgrade_chance = {\"SMB\": 0.1, \"Mid-Market\": 0.2, \"Enterprise\": 0.3}\n",
    "    if random.random() < upgrade_chance[segment]:\n",
    "        upgrade_date = start_date + timedelta(days=random.randint(90, 365))\n",
    "        if upgrade_date < datetime.today():\n",
    "            upgrade_price = round(price * random.uniform(1.2, 1.6), 2)\n",
    "            subscription_data.append((\n",
    "                sub_id, customer_id, plan_type, upgrade_price,\n",
    "                upgrade_date.strftime(\"%Y-%m-%d %H:%M:%S\"),\n",
    "                None, 'active', 'upgrade'\n",
    "            ))\n",
    "            sub_id += 1"
   ]
  },
  {
   "cell_type": "code",
   "execution_count": null,
   "id": "84d70d92",
   "metadata": {},
   "outputs": [],
   "source": [
    "\n",
    "cursor.executemany(\"INSERT INTO subscriptions VALUES (?, ?, ?, ?, ?, ?, ?, ?)\", subscription_data)\n",
    "conn.commit()"
   ]
  },
  {
   "cell_type": "code",
   "execution_count": null,
   "id": "9f187958",
   "metadata": {},
   "outputs": [],
   "source": [
    "\n",
    "print(f\"[INFO] Inserted {len(subscription_data)} subscriptions including signups and upgrades.\")"
   ]
  },
  {
   "cell_type": "code",
   "execution_count": null,
   "id": "dfd91b54",
   "metadata": {},
   "outputs": [],
   "source": []
  },
  {
   "cell_type": "code",
   "execution_count": null,
   "id": "9620d6f0",
   "metadata": {},
   "outputs": [],
   "source": [
    "\n",
    "# ------------------------------\n",
    "# Support Tickets (Segment-Aware with defensive handling)\n",
    "# ------------------------------\n",
    "ticket_id = 1\n",
    "sample_size = min(20000, len(customer_list))\n",
    "sampled_customers = random.sample(customer_list, sample_size)"
   ]
  },
  {
   "cell_type": "code",
   "execution_count": null,
   "id": "6d805e8d",
   "metadata": {},
   "outputs": [],
   "source": [
    "\n",
    "for customer_id, segment in sampled_customers:\n",
    "    if segment == 'Enterprise':\n",
    "        num_tickets = random.choices([5, 6, 7, 8, 9, 10], weights=[20, 30, 25, 15, 7, 3])[0]\n",
    "        resolution_range = (6, 36)\n",
    "    elif segment == 'Mid-Market':\n",
    "        num_tickets = random.choices([2, 3, 4, 5, 6], weights=[30, 30, 20, 15, 5])[0]\n",
    "        resolution_range = (12, 72)\n",
    "    else:\n",
    "        num_tickets = random.choices([0, 1, 2, 3], weights=[50, 30, 15, 5])[0]\n",
    "        resolution_range = (24, 120)"
   ]
  },
  {
   "cell_type": "code",
   "execution_count": null,
   "id": "e80eac39",
   "metadata": {},
   "outputs": [],
   "source": [
    "\n",
    "    for _ in range(num_tickets):\n",
    "        created = fake.date_time_between(start_date='-1y', end_date='-7d')\n",
    "        resolution_hours = random.randint(*resolution_range)\n",
    "        resolved = created + timedelta(hours=resolution_hours)"
   ]
  },
  {
   "cell_type": "code",
   "execution_count": null,
   "id": "f0859108",
   "metadata": {},
   "outputs": [],
   "source": [
    "\n",
    "        if resolved <= created:\n",
    "            resolved = created + timedelta(hours=1)"
   ]
  },
  {
   "cell_type": "code",
   "execution_count": null,
   "id": "924d2590",
   "metadata": {},
   "outputs": [],
   "source": [
    "\n",
    "        category = random.choice(TICKET_CATEGORIES)"
   ]
  },
  {
   "cell_type": "code",
   "execution_count": null,
   "id": "9ee1f8f3",
   "metadata": {},
   "outputs": [],
   "source": [
    "\n",
    "        cursor.execute(\"\"\"\n",
    "            INSERT INTO support_tickets VALUES (?, ?, ?, ?, ?)\n",
    "        \"\"\", (\n",
    "            ticket_id,\n",
    "            customer_id,\n",
    "            category,\n",
    "            created.strftime(\"%Y-%m-%d %H:%M:%S\"),\n",
    "            resolved.strftime(\"%Y-%m-%d %H:%M:%S\")\n",
    "        ))"
   ]
  },
  {
   "cell_type": "code",
   "execution_count": null,
   "id": "bb5b8b87",
   "metadata": {},
   "outputs": [],
   "source": [
    "\n",
    "        ticket_id += 1"
   ]
  },
  {
   "cell_type": "code",
   "execution_count": null,
   "id": "40d6ad4a",
   "metadata": {},
   "outputs": [],
   "source": [
    "\n",
    "print(\"[INFO] Inserted support tickets.\")"
   ]
  },
  {
   "cell_type": "code",
   "execution_count": null,
   "id": "c9f1f711",
   "metadata": {},
   "outputs": [],
   "source": [
    "\n",
    "# ------------------------------\n",
    "# Churn Events (Segment-aware with support friction and decay adjustments)\n",
    "# ------------------------------\n",
    "churn_id = 1\n",
    "cursor.execute(\"\"\"\n",
    "    SELECT \n",
    "        c.customer_id,\n",
    "        c.customer_segment,\n",
    "        c.signup_date,\n",
    "        COUNT(st.ticket_id) AS total_tickets,\n",
    "        MIN(st.created_at) AS first_ticket_date,\n",
    "        AVG(JULIANDAY(st.resolved_at) - JULIANDAY(st.created_at)) AS avg_resolution_days,\n",
    "        SUM(CASE WHEN st.ticket_category = 'Billing' THEN 1 ELSE 0 END) AS billing_tickets\n",
    "    FROM customers c\n",
    "    LEFT JOIN support_tickets st\n",
    "    ON c.customer_id = st.customer_id\n",
    "    GROUP BY c.customer_id\n",
    "\"\"\")"
   ]
  },
  {
   "cell_type": "code",
   "execution_count": null,
   "id": "e938760f",
   "metadata": {},
   "outputs": [],
   "source": [
    "\n",
    "churn_candidates = 0\n",
    "churn_inserted = 0"
   ]
  },
  {
   "cell_type": "code",
   "execution_count": null,
   "id": "59903dd8",
   "metadata": {},
   "outputs": [],
   "source": [
    "\n",
    "for row in cursor.fetchall():\n",
    "    customer_id, segment, signup_date_str, total_tickets, first_ticket_date, avg_resolution_days, billing_tickets = row\n",
    "    signup_date = datetime.strptime(signup_date_str, \"%Y-%m-%d %H:%M:%S\")\n",
    "    days_since_signup = (datetime.today() - signup_date).days"
   ]
  },
  {
   "cell_type": "code",
   "execution_count": null,
   "id": "602a8031",
   "metadata": {},
   "outputs": [],
   "source": [
    "\n",
    "    churn_prob = 0.02 if segment == 'Enterprise' else 0.05 if segment == 'Mid-Market' else 0.12"
   ]
  },
  {
   "cell_type": "code",
   "execution_count": null,
   "id": "e80001e2",
   "metadata": {},
   "outputs": [],
   "source": [
    "\n",
    "    if days_since_signup < 90:\n",
    "        churn_prob *= 0.2\n",
    "    elif days_since_signup < 180:\n",
    "        churn_prob *= 0.5"
   ]
  },
  {
   "cell_type": "code",
   "execution_count": null,
   "id": "3ffa5f79",
   "metadata": {},
   "outputs": [],
   "source": [
    "\n",
    "    if total_tickets >= 5:\n",
    "        churn_prob += 0.15 if segment == 'SMB' else 0.1\n",
    "    elif 1 <= total_tickets <= 4:\n",
    "        churn_prob -= 0.05"
   ]
  },
  {
   "cell_type": "code",
   "execution_count": null,
   "id": "809a6759",
   "metadata": {},
   "outputs": [],
   "source": [
    "\n",
    "    if avg_resolution_days and avg_resolution_days > 3:\n",
    "        churn_prob += 0.05 if segment == 'Enterprise' else 0.1"
   ]
  },
  {
   "cell_type": "code",
   "execution_count": null,
   "id": "5e133e22",
   "metadata": {},
   "outputs": [],
   "source": [
    "\n",
    "    if billing_tickets and billing_tickets >= 2:\n",
    "        churn_prob += 0.15 if segment == 'Enterprise' else 0.1"
   ]
  },
  {
   "cell_type": "code",
   "execution_count": null,
   "id": "86bfb080",
   "metadata": {},
   "outputs": [],
   "source": [
    "\n",
    "    if not first_ticket_date:\n",
    "        first_ticket_delay_days = 999\n",
    "    else:\n",
    "        first_ticket_date_obj = datetime.strptime(first_ticket_date, \"%Y-%m-%d %H:%M:%S\")\n",
    "        first_ticket_delay_days = (first_ticket_date_obj - signup_date).days"
   ]
  },
  {
   "cell_type": "code",
   "execution_count": null,
   "id": "541e1c80",
   "metadata": {},
   "outputs": [],
   "source": [
    "\n",
    "    if first_ticket_delay_days > 90:\n",
    "        churn_prob += 0.1 if segment == 'SMB' else 0.05"
   ]
  },
  {
   "cell_type": "code",
   "execution_count": null,
   "id": "198cc6aa",
   "metadata": {},
   "outputs": [],
   "source": [
    "\n",
    "    churn_prob = min(churn_prob, 0.9)"
   ]
  },
  {
   "cell_type": "code",
   "execution_count": null,
   "id": "cdf2f0d5",
   "metadata": {},
   "outputs": [],
   "source": [
    "\n",
    "    if random.random() < churn_prob:\n",
    "        min_lifetime_days = 30 if segment == 'SMB' else 60 if segment == 'Mid-Market' else 120\n",
    "        if datetime.today() >= signup_date + timedelta(days=min_lifetime_days):\n",
    "            churn_candidates += 1\n",
    "            churn_date = fake.date_time_between(\n",
    "                start_date=signup_date + timedelta(days=min_lifetime_days),\n",
    "                end_date=datetime.today()\n",
    "            ).strftime(\"%Y-%m-%d %H:%M:%S\")"
   ]
  },
  {
   "cell_type": "code",
   "execution_count": null,
   "id": "cdf45742",
   "metadata": {},
   "outputs": [],
   "source": [
    "\n",
    "            cursor.execute(\"INSERT INTO churn_events VALUES (?, ?, ?, ?)\", (\n",
    "                churn_id, customer_id, churn_date, random.choice([\"Too expensive\", \"Switched provider\", \"Lack of features\", \"Poor support\", \"Other\"])\n",
    "            ))\n",
    "            churn_inserted += 1\n",
    "            churn_id += 1"
   ]
  },
  {
   "cell_type": "code",
   "execution_count": null,
   "id": "10b7abb4",
   "metadata": {},
   "outputs": [],
   "source": [
    "\n",
    "        if random.random() < 0.1:  # 10% chance to reactivate\n",
    "            reactivation_date = datetime.strptime(churn_date, \"%Y-%m-%d %H:%M:%S\") + timedelta(days=random.randint(30, 120))\n",
    "            cursor.execute(\"\"\"\n",
    "                INSERT INTO subscriptions (subscription_id, customer_id, plan_type, subscription_price, start_date, end_date, status, change_type)\n",
    "                VALUES (?, ?, ?, ?, ?, ?, ?, ?)\n",
    "            \"\"\", (\n",
    "                sub_id, customer_id, \"Hopify Standard\", 299,\n",
    "                reactivation_date.strftime(\"%Y-%m-%d %H:%M:%S\"), None, \"Active\", \"Reactivation\"\n",
    "            ))\n",
    "            sub_id += 1"
   ]
  },
  {
   "cell_type": "code",
   "execution_count": null,
   "id": "81435dae",
   "metadata": {},
   "outputs": [],
   "source": [
    "\n",
    "print(f\"[INFO] Churn eligible: {churn_candidates}, Churn inserted: {churn_inserted}\")"
   ]
  },
  {
   "cell_type": "code",
   "execution_count": null,
   "id": "4f46c4c1",
   "metadata": {},
   "outputs": [],
   "source": []
  },
  {
   "cell_type": "code",
   "execution_count": null,
   "id": "ff96100f",
   "metadata": {},
   "outputs": [],
   "source": [
    "\n",
    "# ------------------------------\n",
    "# Simulated Reactivations after Churn (Segment-aware)\n",
    "# ------------------------------"
   ]
  },
  {
   "cell_type": "code",
   "execution_count": null,
   "id": "9aeae91c",
   "metadata": {},
   "outputs": [],
   "source": [
    "\n",
    "# Continue sub_id from previous context\n",
    "cursor.execute(\"SELECT MAX(subscription_id) FROM subscriptions\")\n",
    "existing_sub_id = cursor.fetchone()[0]\n",
    "sub_id = existing_sub_id + 1 if existing_sub_id is not None else 1"
   ]
  },
  {
   "cell_type": "code",
   "execution_count": null,
   "id": "38482f44",
   "metadata": {},
   "outputs": [],
   "source": [
    "\n",
    "cursor.execute(\"SELECT customer_id, churn_date FROM churn_events\")\n",
    "churned_customers = cursor.fetchall()"
   ]
  },
  {
   "cell_type": "code",
   "execution_count": null,
   "id": "8aadbefe",
   "metadata": {},
   "outputs": [],
   "source": [
    "\n",
    "reactivation_count = 0"
   ]
  },
  {
   "cell_type": "code",
   "execution_count": null,
   "id": "683c9007",
   "metadata": {},
   "outputs": [],
   "source": [
    "\n",
    "for customer_id, churn_date_str in churned_customers:\n",
    "    churn_date = datetime.strptime(churn_date_str, \"%Y-%m-%d %H:%M:%S\")"
   ]
  },
  {
   "cell_type": "code",
   "execution_count": null,
   "id": "6bf638b8",
   "metadata": {},
   "outputs": [],
   "source": [
    "\n",
    "    # 10–20% chance of reactivation depending on segment\n",
    "    cursor.execute(\"SELECT customer_segment FROM customers WHERE customer_id = ?\", (customer_id,))\n",
    "    segment = cursor.fetchone()[0]\n",
    "    reactivation_chance = {\"SMB\": 0.05, \"Mid-Market\": 0.1, \"Enterprise\": 0.2}"
   ]
  },
  {
   "cell_type": "code",
   "execution_count": null,
   "id": "ce62e836",
   "metadata": {},
   "outputs": [],
   "source": [
    "\n",
    "    if random.random() < reactivation_chance[segment]:\n",
    "        reactivation_date = churn_date + timedelta(days=random.randint(30, 180))\n",
    "        if reactivation_date < datetime.today():\n",
    "            # Assign a reactivation plan — slightly higher pricing than original\n",
    "            if segment == 'Enterprise':\n",
    "                plan_type = random.choice(['Pro', 'Enterprise'])\n",
    "                price = round(random.uniform(350, 900), 2)\n",
    "            elif segment == 'Mid-Market':\n",
    "                plan_type = random.choice(['Standard', 'Pro'])\n",
    "                price = round(random.uniform(120, 350), 2)\n",
    "            else:\n",
    "                plan_type = random.choice(['Starter', 'Standard'])\n",
    "                price = round(random.uniform(40, 120), 2)"
   ]
  },
  {
   "cell_type": "code",
   "execution_count": null,
   "id": "4ee95134",
   "metadata": {},
   "outputs": [],
   "source": [
    "\n",
    "            cursor.execute(\"\"\"\n",
    "                INSERT INTO subscriptions (\n",
    "                    subscription_id, customer_id, plan_type,\n",
    "                    subscription_price, start_date, end_date,\n",
    "                    status, change_type\n",
    "                ) VALUES (?, ?, ?, ?, ?, ?, ?, ?)\n",
    "            \"\"\", (\n",
    "                sub_id, customer_id, plan_type, price,\n",
    "                reactivation_date.strftime(\"%Y-%m-%d %H:%M:%S\"),\n",
    "                None, 'active', 'reactivation'\n",
    "            ))\n",
    "            sub_id += 1\n",
    "            reactivation_count += 1"
   ]
  },
  {
   "cell_type": "code",
   "execution_count": null,
   "id": "64ee35ae",
   "metadata": {},
   "outputs": [],
   "source": [
    "\n",
    "print(f\"[INFO] Reactivated {reactivation_count} churned customers.\")"
   ]
  },
  {
   "cell_type": "code",
   "execution_count": null,
   "id": "047c8611",
   "metadata": {},
   "outputs": [],
   "source": []
  },
  {
   "cell_type": "code",
   "execution_count": null,
   "id": "75271608",
   "metadata": {},
   "outputs": [],
   "source": [
    "\n",
    "# ------------------------------\n",
    "# App Installs per Location (Defensive Handling)\n",
    "# ------------------------------"
   ]
  },
  {
   "cell_type": "code",
   "execution_count": null,
   "id": "0cd7cf84",
   "metadata": {},
   "outputs": [],
   "source": [
    "\n",
    "# Get current max install_id to avoid conflicts\n",
    "cursor.execute(\"SELECT MAX(install_id) FROM app_installs\")\n",
    "existing_max_install_id = cursor.fetchone()[0]\n",
    "install_id = existing_max_install_id + 1 if existing_max_install_id is not None else 1"
   ]
  },
  {
   "cell_type": "code",
   "execution_count": null,
   "id": "17480622",
   "metadata": {},
   "outputs": [],
   "source": [
    "\n",
    "for location_id in range(1, len(OFFICE_LOCATIONS) + 1):\n",
    "    for _ in range(random.randint(5, 12)):\n",
    "        pid = random.randint(1, NUM_PRODUCTS_TOTAL)\n",
    "        install_date = fake.date_time_between(start_date='-1y', end_date=datetime.today())\n",
    "        cursor.execute(\"INSERT INTO app_installs VALUES (?, ?, ?, ?)\", (\n",
    "            install_id, location_id, pid, install_date.strftime(\"%Y-%m-%d %H:%M:%S\")\n",
    "        ))\n",
    "        install_id += 1"
   ]
  },
  {
   "cell_type": "code",
   "execution_count": null,
   "id": "3e95fc53",
   "metadata": {},
   "outputs": [],
   "source": [
    "\n",
    "print(\"[INFO] Inserted app installs.\")"
   ]
  },
  {
   "cell_type": "code",
   "execution_count": null,
   "id": "a93b7e9b",
   "metadata": {},
   "outputs": [],
   "source": [
    "\n",
    "# ------------------------------\n",
    "# Discounts and Order Discounts (with defensive uniqueness)\n",
    "# ------------------------------"
   ]
  },
  {
   "cell_type": "code",
   "execution_count": null,
   "id": "208d4d1c",
   "metadata": {},
   "outputs": [],
   "source": [
    "\n",
    "# Ensure discount_id continues from the current max\n",
    "cursor.execute(\"SELECT MAX(discount_id) FROM discounts\")\n",
    "existing_max = cursor.fetchone()[0]\n",
    "start_id = existing_max + 1 if existing_max else 1"
   ]
  },
  {
   "cell_type": "code",
   "execution_count": null,
   "id": "97ab6e3c",
   "metadata": {},
   "outputs": [],
   "source": [
    "\n",
    "# Insert 50 new discount codes\n",
    "for i in range(start_id, start_id + 50):\n",
    "    code = f\"SALE{i:02d}\"\n",
    "    percent = random.choice([5, 10, 15, 20, 25, 30])\n",
    "    start = fake.date_time_between(start_date='-1y', end_date='-30d')\n",
    "    end = start + timedelta(days=random.randint(7, 90))\n",
    "    cursor.execute(\"INSERT INTO discounts VALUES (?, ?, ?, ?, ?)\", (\n",
    "        i, code, percent,\n",
    "        start.strftime(\"%Y-%m-%d %H:%M:%S\"),\n",
    "        end.strftime(\"%Y-%m-%d %H:%M:%S\")\n",
    "    ))"
   ]
  },
  {
   "cell_type": "code",
   "execution_count": null,
   "id": "a7720aa6",
   "metadata": {},
   "outputs": [],
   "source": [
    "\n",
    "# Apply discounts to unique orders, avoiding duplicate (order_id, discount_id) pairs\n",
    "used_pairs = set()\n",
    "cursor.execute(\"SELECT order_id FROM orders ORDER BY RANDOM() LIMIT 20000\")\n",
    "for row in cursor.fetchall():\n",
    "    order_id = row[0]\n",
    "    tries = 0\n",
    "    while tries < 10:\n",
    "        discount_id = random.randint(start_id, start_id + 49)\n",
    "        if (order_id, discount_id) not in used_pairs:\n",
    "            cursor.execute(\"INSERT INTO order_discounts VALUES (?, ?)\", (order_id, discount_id))\n",
    "            used_pairs.add((order_id, discount_id))\n",
    "            break\n",
    "        tries += 1  # Retry with a different discount"
   ]
  },
  {
   "cell_type": "code",
   "execution_count": null,
   "id": "8b5dd097",
   "metadata": {},
   "outputs": [],
   "source": [
    "\n",
    "print(\"[INFO] Inserted discounts and applied to orders.\")"
   ]
  },
  {
   "cell_type": "code",
   "execution_count": null,
   "id": "64d465c0",
   "metadata": {},
   "outputs": [],
   "source": [
    "\n",
    "# ------------------------------\n",
    "# Marketing Spend Table\n",
    "# ------------------------------"
   ]
  },
  {
   "cell_type": "code",
   "execution_count": null,
   "id": "52531ad9",
   "metadata": {},
   "outputs": [],
   "source": [
    "\n",
    "marketing_spend_data = []\n",
    "segment_spend_ranges = {\n",
    "    \"SMB\": (10000, 25000),\n",
    "    \"Mid-Market\": (50000, 80000),\n",
    "    \"Enterprise\": (100000, 150000)\n",
    "}"
   ]
  },
  {
   "cell_type": "code",
   "execution_count": null,
   "id": "24259eed",
   "metadata": {},
   "outputs": [],
   "source": [
    "\n",
    "month_cursor = datetime.now() - relativedelta(months=36)\n",
    "end_month = datetime.now() - relativedelta(months=1)"
   ]
  },
  {
   "cell_type": "code",
   "execution_count": null,
   "id": "9898ca78",
   "metadata": {},
   "outputs": [],
   "source": [
    "\n",
    "while month_cursor <= end_month:\n",
    "    month_str = month_cursor.strftime('%Y-%m')\n",
    "    for segment in CUSTOMER_SEGMENTS:\n",
    "        min_spend, max_spend = segment_spend_ranges[segment]\n",
    "        variation = random.uniform(-0.1, 0.1)  # simulate 10% monthly budget fluctuation\n",
    "        avg_spend = (min_spend + max_spend) / 2\n",
    "        monthly_budget = round(avg_spend * (1 + variation), 2)\n",
    "        marketing_spend_data.append((segment, month_str, monthly_budget))\n",
    "    month_cursor += relativedelta(months=1)"
   ]
  },
  {
   "cell_type": "code",
   "execution_count": null,
   "id": "e6b561a0",
   "metadata": {},
   "outputs": [],
   "source": [
    "\n",
    "cursor.executemany(\"\"\"\n",
    "    INSERT INTO marketing_spend (segment, month, monthly_budget)\n",
    "    VALUES (?, ?, ?)\n",
    "\"\"\", marketing_spend_data)"
   ]
  },
  {
   "cell_type": "code",
   "execution_count": null,
   "id": "281e910e",
   "metadata": {},
   "outputs": [],
   "source": [
    "\n",
    "print(f\"[INFO] Inserted {len(marketing_spend_data)} rows of marketing spend data with dynamic variation.\")"
   ]
  },
  {
   "cell_type": "code",
   "execution_count": null,
   "id": "2564b153",
   "metadata": {},
   "outputs": [],
   "source": [
    "\n",
    "# ------------------------------\n",
    "# Web Traffic Data (Safe Refresh)\n",
    "# ------------------------------"
   ]
  },
  {
   "cell_type": "code",
   "execution_count": null,
   "id": "467927e5",
   "metadata": {},
   "outputs": [],
   "source": [
    "\n",
    "cursor.execute(\"DELETE FROM web_traffic\")"
   ]
  },
  {
   "cell_type": "code",
   "execution_count": null,
   "id": "1ad6cd23",
   "metadata": {},
   "outputs": [],
   "source": [
    "\n",
    "channels = ['Paid Search', 'Social Media', 'Organic']\n",
    "months = [datetime.now() - relativedelta(months=i) for i in range(0, 24)]"
   ]
  },
  {
   "cell_type": "code",
   "execution_count": null,
   "id": "e1928180",
   "metadata": {},
   "outputs": [],
   "source": [
    "\n",
    "for month in months:\n",
    "    for channel in channels:\n",
    "        visitors = random.randint(10000, 30000) if channel != 'Organic' else random.randint(50000, 100000)\n",
    "        leads = int(visitors * random.uniform(0.02, 0.05))\n",
    "        mqls = int(leads * random.uniform(0.2, 0.4))\n",
    "        cursor.execute(\"\"\"\n",
    "            INSERT INTO web_traffic (traffic_date, source_channel, visitors, leads, mqls)\n",
    "            VALUES (?, ?, ?, ?, ?)\n",
    "        \"\"\", (month.strftime(\"%Y-%m\"), channel, visitors, leads, mqls))"
   ]
  },
  {
   "cell_type": "code",
   "execution_count": null,
   "id": "1aeddd32",
   "metadata": {},
   "outputs": [],
   "source": [
    "\n",
    "print(\"[INFO] Sample web traffic data inserted (table cleared before insert).\")"
   ]
  },
  {
   "cell_type": "code",
   "execution_count": null,
   "id": "e61a3c5b",
   "metadata": {},
   "outputs": [],
   "source": [
    "\n",
    "# ------------------------------\n",
    "# Replace Benchmarks from CSV\n",
    "# ------------------------------\n",
    "benchmarks_csv_path = os.path.join(\n",
    "    os.path.dirname(__file__), '..', 'benchmarks', 'hopify-benchmarks-seg-table.csv'\n",
    ")\n",
    "print(f\"[INFO] Benchmarks CSV path set to: {benchmarks_csv_path}\")"
   ]
  },
  {
   "cell_type": "code",
   "execution_count": null,
   "id": "44ebade6",
   "metadata": {},
   "outputs": [],
   "source": [
    "\n",
    "# Delete all existing benchmarks\n",
    "cursor.execute(\"DELETE FROM benchmarks\")"
   ]
  },
  {
   "cell_type": "code",
   "execution_count": null,
   "id": "6146e819",
   "metadata": {},
   "outputs": [],
   "source": [
    "\n",
    "# Load and insert new benchmarks\n",
    "rows = []\n",
    "with open(benchmarks_csv_path, mode='r', encoding='utf-8') as file:\n",
    "    reader = csv.DictReader(file, delimiter=',')"
   ]
  },
  {
   "cell_type": "code",
   "execution_count": null,
   "id": "b80e9158",
   "metadata": {},
   "outputs": [],
   "source": [
    "\n",
    "    for i, row in enumerate(reader):\n",
    "        try:\n",
    "            # Skip rows with missing required fields\n",
    "            if not row[\"benchmark_id\"] or not row[\"metric_name\"] or not row[\"target_value\"]:\n",
    "                print(f\"[SKIP] Row {i + 1} missing required fields: {row}\")\n",
    "                continue"
   ]
  },
  {
   "cell_type": "code",
   "execution_count": null,
   "id": "5611a48b",
   "metadata": {},
   "outputs": [],
   "source": [
    "\n",
    "            parsed_row = (\n",
    "                row[\"benchmark_id\"].strip(),\n",
    "                row[\"metric_category\"].strip(),\n",
    "                row[\"segment\"].strip(),\n",
    "                row[\"metric_name\"].strip(),\n",
    "                float(row[\"target_value\"]),\n",
    "                row[\"description\"].strip(),\n",
    "                row[\"target_period\"].strip()\n",
    "            )\n",
    "            rows.append(parsed_row)"
   ]
  },
  {
   "cell_type": "code",
   "execution_count": null,
   "id": "81d1d2d2",
   "metadata": {},
   "outputs": [],
   "source": [
    "\n",
    "        except Exception as e:\n",
    "            print(f\"[ERROR] Row {i + 1} failed: {row}\")\n",
    "            print(f\"        Error: {e}\")"
   ]
  },
  {
   "cell_type": "code",
   "execution_count": null,
   "id": "1fa5181a",
   "metadata": {},
   "outputs": [],
   "source": [
    "\n",
    "# Insert cleaned rows into benchmarks table\n",
    "cursor.executemany(\"\"\"\n",
    "    INSERT INTO benchmarks (\n",
    "        benchmark_id,\n",
    "        metric_category,\n",
    "        segment,\n",
    "        metric_name,\n",
    "        target_value,\n",
    "        description,\n",
    "        target_period\n",
    "    ) VALUES (?, ?, ?, ?, ?, ?, ?)\n",
    "\"\"\", rows)"
   ]
  },
  {
   "cell_type": "code",
   "execution_count": null,
   "id": "d661e043",
   "metadata": {},
   "outputs": [],
   "source": [
    "\n",
    "print(f\"[INFO] Benchmarks replaced from CSV. Rows inserted: {len(rows)}\")"
   ]
  },
  {
   "cell_type": "code",
   "execution_count": null,
   "id": "6d20a504",
   "metadata": {},
   "outputs": [],
   "source": []
  },
  {
   "cell_type": "code",
   "execution_count": null,
   "id": "f5f78a5c",
   "metadata": {},
   "outputs": [],
   "source": [
    "\n",
    "# ------------------------------\n",
    "# Finalize and Close Connection\n",
    "# ------------------------------\n",
    "conn.commit()\n",
    "conn.close()"
   ]
  },
  {
   "cell_type": "code",
   "execution_count": null,
   "id": "2eb5a87f",
   "metadata": {},
   "outputs": [],
   "source": [
    "\n",
    "print(\"\\n🎉 Hopify v15 (SaaS Full Lifecycle Dataset) created successfully! 🎉\")\n",
    "print(\"✅ Includes:\")\n",
    "print(\"- Dynamic multi-year historical data\")\n",
    "print(\"- Segment-aware subscriptions, churn, support, payments\")\n",
    "print(\"- Orders and product category skew by segment\")\n",
    "print(\"- Marketing campaigns, web traffic, lead conversions\")\n",
    "print(\"- Benchmarks for key SaaS and Marketing metrics\")\n",
    "print(\"- Full event timestamping and behavioral modeling\")\n",
    "print(\"- Cross-sell, upsell, support impact on churn, and more\")\n",
    "print(\"\\n[INFO] All data has been committed and the connection has been closed.\")"
   ]
  }
 ],
 "metadata": {},
 "nbformat": 4,
 "nbformat_minor": 5
}
